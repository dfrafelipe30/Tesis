{
 "cells": [
  {
   "cell_type": "markdown",
   "metadata": {
    "collapsed": false
   },
   "source": [
    "---\n",
    "## Algoritmo de McEliece\n",
    "---\n",
    "La idea detrás del criptosistema es seleccionar un código particular para el que se conoce un algoritmo de decodificación eficiente y luego disfrazar el código como un código lineal general. Dado que el problema de descifrar un código lineal arbitrario es NP completo, podemos usar una descripción del código como clave privada, mientras que una descripción del código transformado puede servir como clave pública.\n"
   ]
  },
  {
   "cell_type": "code",
   "execution_count": 1,
   "metadata": {
    "collapsed": false
   },
   "outputs": [
   ],
   "source": [
    "# Definimos el cuerpo donde vamos a trabajar\n",
    "m = 4;rango = 3;N = 2^m\n",
    "K_.<a> = GF(2)\n",
    "F.<a> = GF(2^m)"
   ]
  },
  {
   "cell_type": "code",
   "execution_count": 2,
   "metadata": {
    "collapsed": false
   },
   "outputs": [
   ],
   "source": [
    "# Creamos el anillo de polinomios\n",
    "PR = PolynomialRing(F,'X')\n",
    "X = PR.gen()\n",
    "g = X^3+X+1                     # Polinomio de Goppa\n",
    "L = [a^i for i in range(N)]     # Soporte del codigo"
   ]
  },
  {
   "cell_type": "code",
   "execution_count": 15,
   "metadata": {
    "collapsed": false
   },
   "outputs": [
   ],
   "source": [
    "# -------------------\n",
    "# Funcion auxiliar que permite descomponer un polinomio en irreducibles\n",
    "# -------------------\n",
    "def descomponer_polinomio(p):\n",
    "    # El siguiente metodo permite descomponer un polinomio p en factores irreducibles p(z) = p0 (z) + z p1 (z)\n",
    "    # Entrada: Polinomio p\n",
    "    Phi1 = p.parent()\n",
    "    p0 = Phi1([sqrt(c) for c in p.list()[0::2]])\n",
    "    p1 = Phi1([sqrt(c) for c in p.list()[1::2]])\n",
    "    return (p0,p1)\n",
    "\n",
    "# -------------------\n",
    "# Algoritmo de euclides extendido: Obtener MCD y los s,t que lo generan.\n",
    "# -------------------\n",
    "def algoritmo_euclides_extendido(self, other):\n",
    "    delta = self.degree() #grado de polinomio 1\n",
    "    if other.is_zero(): # si el polinomio introducido es\n",
    "        ring = self.parent() #comprobamos el cuerpo en el que trabajamos\n",
    "        return self, R.one(), R.zero() #mcd = mismo polinomio y devuelve un uno (s) y un cero (t) en el cuerpo que trabajamos.\n",
    "\n",
    "    # mcd (a,b) = as+bt\n",
    "\n",
    "    ring = self.parent() #comprobamos el cuerpo en el que trabajamos\n",
    "    a = self # guardamos una copia del primer polinomio 1 (self)\n",
    "    b = other # guardamos una copia del segundo polinomio (other)\n",
    "\n",
    "    s = ring.one() # guardamos en s el uno del anillo\n",
    "    t = ring.zero() # guardamos en t el cero del anillo\n",
    "\n",
    "    resto0 = a\n",
    "    resto1 = b\n",
    "\n",
    "    while true:\n",
    "        cociente,resto_auxiliar = resto0.quo_rem(resto1) # La funcion quo_rem de Sage devuelve el cociente y el resto. Que guardamos en Q y ring.\n",
    "        resto0 = resto1\n",
    "        resto1 = resto_auxiliar\n",
    "\n",
    "        s = t\n",
    "        t = s - t*cociente\n",
    "\n",
    "        if resto1.degree() <= floor((delta-1)/2) and resto0.degree() <= floor((delta)/2):\n",
    "             break\n",
    "\n",
    "    V = (resto0-a*s)//b\n",
    "    coeficiente_lider = resto0.leading_coefficient() # guardamos el coeficiente lider del resto 0\n",
    "\n",
    "    return resto0/coeficiente_lider, s/coeficiente_lider, V/coeficiente_lider\n",
    "\n",
    "# -------------------\n",
    "# Funcion que calcula la inversa de un polinomio utilizando el algoritmo de euclides de Sage\n",
    "# -------------------\n",
    "def inversa_g(p,g):\n",
    "    # Input: Polinomios p y g\n",
    "    # Output:retornar polinomio P modulo g\n",
    "    (d,u,v) = xgcd(p,g)\n",
    "    return u.mod(g)\n",
    "\n",
    "# -------------------\n",
    "# Funcion de decodificacion de Patterson\n",
    "# -------------------\n",
    "def decodePatterson(y):\n",
    "    # Calculamos primero el vector alpha con los elementos primitivos.\n",
    "    alpha = vector(H*y)\n",
    "\n",
    "    # Consideramos nuestras matrices T,Y,Z definidas así como nuestro polinomio irreducible g\n",
    "\n",
    "    polinomioS = PR(0) # Inicializa como el polinomio 0 del anillo\n",
    "    for i in range(len(alpha)):\n",
    "        polinomioS = polinomioS + alpha[i]*(X^(len(alpha)-i-1)) # Lo vamos rellenando con los alpha\n",
    "\n",
    "    vector_g = descomponer_polinomio(g) # Guardamos en vector_g el par de polinomios irreducibles\n",
    "    w = ((vector_g[0])*inversa_g(vector_g[1],g)).mod(g)\n",
    "    vector_t = descomponer_polinomio(inversa_g(polinomioS,g) + X)\n",
    "\n",
    "    R = (vector_t[0]+(w)*(vector_t[1])).mod(g)\n",
    "\n",
    "    (A,aux,B) = algoritmo_euclides_extendido(g,R)\n",
    "\n",
    "    # Definimos el polinomio sigma\n",
    "    sigma = A^2+X*(B^2)\n",
    "\n",
    "    # Vamos comprobando uno a uno los coeficientes de sigma\n",
    "    # para asi determinar el conjunto de posiciones de error E - {i tal que e_i es distinto de 0}\n",
    "    for i in range(N):\n",
    "        if (sigma(a^i)==0): # an error occured\n",
    "            print (\"Error encontrado en la posición: \" + str(i))\n",
    "            y[i] = y[i] + 1\n",
    "    return y"
   ]
  },
  {
   "cell_type": "markdown",
   "metadata": {
    "collapsed": false
   },
   "source": [
    "## Ejemplo\n",
    "\n",
    "Vamos a realizar a un ejemplo en donde podamos ejemplificar el uso del criptosistema de McEliece. Para ello vamos a crear la matriz de nuestro codigo para generar todos los pasos necesarios para el cifrado."
   ]
  },
  {
   "cell_type": "code",
   "execution_count": 16,
   "metadata": {
    "collapsed": false
   },
   "outputs": [
   ],
   "source": [
    "# Creando la matriz A de la matriz H.\n",
    "A = matrix(F,rango,rango)\n",
    "for i in range(rango):\n",
    "    count = rango - i\n",
    "    for j in range(rango):\n",
    "        if i > j:\n",
    "            A[i,j]=g.list()[count]\n",
    "            count = count + 1\n",
    "        if i < j:\n",
    "            A[i,j] = 0\n",
    "        if i == j:\n",
    "            A[i,j] = 1"
   ]
  },
  {
   "cell_type": "code",
   "execution_count": 17,
   "metadata": {
    "collapsed": false
   },
   "outputs": [
    {
     "name": "stdout",
     "output_type": "stream",
     "text": [
      "Matriz A: \n"
     ]
    },
    {
     "data": {
      "text/html": [
       "<html><script type=\"math/tex; mode=display\">\\newcommand{\\Bold}[1]{\\mathbf{#1}}\\left(\\begin{array}{rrr}\n",
       "1 & 0 & 0 \\\\\n",
       "0 & 1 & 0 \\\\\n",
       "1 & 0 & 1\n",
       "\\end{array}\\right)</script></html>"
      ],
      "text/plain": [
       "[1 0 0]\n",
       "[0 1 0]\n",
       "[1 0 1]"
      ]
     },
     "execution_count": 17,
     "metadata": {
     },
     "output_type": "execute_result"
    }
   ],
   "source": [
    "print (\"Matriz A: \")\n",
    "show(A)"
   ]
  },
  {
   "cell_type": "code",
   "execution_count": 18,
   "metadata": {
    "collapsed": false
   },
   "outputs": [
    {
     "data": {
      "text/html": [
       "<html><script type=\"math/tex; mode=display\">\\newcommand{\\Bold}[1]{\\mathbf{#1}}\\left(\\begin{array}{rrrrrrrrrrrrrrrr}\n",
       "0 & 0 & 0 & 1 & 0 & 0 & 1 & 0 & 0 & 1 & 0 & 0 & 1 & 0 & 0 & 0 \\\\\n",
       "0 & 1 & 0 & 1 & 1 & 1 & 0 & 1 & 0 & 1 & 1 & 1 & 0 & 1 & 1 & 0 \\\\\n",
       "0 & 0 & 1 & 1 & 0 & 1 & 1 & 1 & 1 & 0 & 1 & 1 & 0 & 1 & 1 & 0 \\\\\n",
       "1 & 1 & 0 & 0 & 0 & 1 & 1 & 1 & 1 & 1 & 0 & 0 & 1 & 1 & 0 & 1 \\\\\n",
       "0 & 1 & 1 & 1 & 1 & 0 & 1 & 0 & 1 & 1 & 0 & 0 & 1 & 0 & 0 & 0 \\\\\n",
       "0 & 0 & 0 & 0 & 1 & 0 & 1 & 1 & 1 & 0 & 0 & 0 & 1 & 1 & 0 & 0 \\\\\n",
       "0 & 1 & 0 & 0 & 0 & 0 & 0 & 0 & 1 & 1 & 0 & 1 & 1 & 0 & 1 & 0 \\\\\n",
       "1 & 0 & 0 & 1 & 0 & 1 & 1 & 0 & 1 & 1 & 1 & 0 & 0 & 1 & 1 & 1 \\\\\n",
       "0 & 0 & 0 & 1 & 0 & 0 & 1 & 1 & 0 & 1 & 0 & 1 & 1 & 1 & 1 & 0 \\\\\n",
       "0 & 0 & 1 & 0 & 0 & 0 & 0 & 1 & 1 & 1 & 0 & 0 & 1 & 0 & 1 & 0 \\\\\n",
       "0 & 1 & 0 & 1 & 1 & 0 & 0 & 0 & 0 & 1 & 0 & 0 & 0 & 1 & 1 & 0 \\\\\n",
       "0 & 0 & 0 & 0 & 1 & 1 & 0 & 1 & 1 & 1 & 1 & 1 & 0 & 1 & 0 & 0\n",
       "\\end{array}\\right)</script></html>"
      ],
      "text/plain": [
       "[0 0 0 1 0 0 1 0 0 1 0 0 1 0 0 0]\n",
       "[0 1 0 1 1 1 0 1 0 1 1 1 0 1 1 0]\n",
       "[0 0 1 1 0 1 1 1 1 0 1 1 0 1 1 0]\n",
       "[1 1 0 0 0 1 1 1 1 1 0 0 1 1 0 1]\n",
       "[0 1 1 1 1 0 1 0 1 1 0 0 1 0 0 0]\n",
       "[0 0 0 0 1 0 1 1 1 0 0 0 1 1 0 0]\n",
       "[0 1 0 0 0 0 0 0 1 1 0 1 1 0 1 0]\n",
       "[1 0 0 1 0 1 1 0 1 1 1 0 0 1 1 1]\n",
       "[0 0 0 1 0 0 1 1 0 1 0 1 1 1 1 0]\n",
       "[0 0 1 0 0 0 0 1 1 1 0 0 1 0 1 0]\n",
       "[0 1 0 1 1 0 0 0 0 1 0 0 0 1 1 0]\n",
       "[0 0 0 0 1 1 0 1 1 1 1 1 0 1 0 0]"
      ]
     },
     "execution_count": 18,
     "metadata": {
     },
     "output_type": "execute_result"
    }
   ],
   "source": [
    "B = matrix([[L[j]^i for j in range(N)] for i in range(rango)])\n",
    "D = diagonal_matrix([1/g(L[i]) for i in range(N)])\n",
    "H = A*B*D\n",
    "H_Goppa_K = matrix(K_, m*H.nrows(),H.ncols())\n",
    "for i in range(H.nrows()):\n",
    "    for j in range(H.ncols()):\n",
    "        be = bin(eval(H[i,j]._int_repr()))[2:];\n",
    "        be = '0'*(m-len(be))+be; be = list(be);\n",
    "        H_Goppa_K[m*i:m*(i+1),j]=vector(map(int,be));\n",
    "show(H_Goppa_K)"
   ]
  },
  {
   "cell_type": "markdown",
   "metadata": {
    "collapsed": false
   },
   "source": [
    "A continuación vamos a definir los elementos necesarios para construir nuestro criptosistema."
   ]
  },
  {
   "cell_type": "code",
   "execution_count": 19,
   "metadata": {
    "collapsed": false
   },
   "outputs": [
    {
     "name": "stdout",
     "output_type": "stream",
     "text": [
      "G\n"
     ]
    },
    {
     "data": {
      "text/html": [
       "<html><script type=\"math/tex; mode=display\">\\newcommand{\\Bold}[1]{\\mathbf{#1}}\\left(\\begin{array}{rrrrrrrrrrrrrrrr}\n",
       "1 & 0 & 0 & 0 & 0 & 0 & 0 & 0 & 0 & 0 & 0 & 0 & 0 & 0 & 0 & 1 \\\\\n",
       "0 & 1 & 0 & 0 & 1 & 1 & 1 & 0 & 0 & 1 & 0 & 1 & 0 & 0 & 1 & 0 \\\\\n",
       "0 & 0 & 1 & 0 & 0 & 0 & 1 & 0 & 1 & 1 & 1 & 1 & 0 & 0 & 1 & 1 \\\\\n",
       "0 & 0 & 0 & 1 & 0 & 0 & 1 & 1 & 0 & 1 & 0 & 1 & 1 & 1 & 1 & 1\n",
       "\\end{array}\\right)</script></html>"
      ],
      "text/plain": [
       "[1 0 0 0 0 0 0 0 0 0 0 0 0 0 0 1]\n",
       "[0 1 0 0 1 1 1 0 0 1 0 1 0 0 1 0]\n",
       "[0 0 1 0 0 0 1 0 1 1 1 1 0 0 1 1]\n",
       "[0 0 0 1 0 0 1 1 0 1 0 1 1 1 1 1]"
      ]
     },
     "execution_count": 19,
     "metadata": {
     },
     "output_type": "execute_result"
    },
    {
     "name": "stdout",
     "output_type": "stream",
     "text": [
      "Vector u\n"
     ]
    },
    {
     "data": {
      "text/html": [
       "<html><script type=\"math/tex; mode=display\">\\newcommand{\\Bold}[1]{\\mathbf{#1}}\\left(1,\\,0,\\,1,\\,1\\right)</script></html>"
      ],
      "text/plain": [
       "(1, 0, 1, 1)"
      ]
     },
     "execution_count": 19,
     "metadata": {
     },
     "output_type": "execute_result"
    },
    {
     "name": "stdout",
     "output_type": "stream",
     "text": [
      "Vector c\n"
     ]
    },
    {
     "data": {
      "text/html": [
       "<html><script type=\"math/tex; mode=display\">\\newcommand{\\Bold}[1]{\\mathbf{#1}}\\left(1,\\,0,\\,1,\\,1,\\,0,\\,0,\\,0,\\,1,\\,1,\\,0,\\,1,\\,0,\\,1,\\,1,\\,0,\\,1\\right)</script></html>"
      ],
      "text/plain": [
       "(1, 0, 1, 1, 0, 0, 0, 1, 1, 0, 1, 0, 1, 1, 0, 1)"
      ]
     },
     "execution_count": 19,
     "metadata": {
     },
     "output_type": "execute_result"
    },
    {
     "name": "stdout",
     "output_type": "stream",
     "text": [
      "Vector de errores e\n"
     ]
    },
    {
     "data": {
      "text/html": [
       "<html><script type=\"math/tex; mode=display\">\\newcommand{\\Bold}[1]{\\mathbf{#1}}\\left(0,\\,0,\\,0,\\,0,\\,0,\\,0,\\,0,\\,0,\\,1,\\,1,\\,0,\\,0,\\,0,\\,0,\\,0,\\,0\\right)</script></html>"
      ],
      "text/plain": [
       "(0, 0, 0, 0, 0, 0, 0, 0, 1, 1, 0, 0, 0, 0, 0, 0)"
      ]
     },
     "execution_count": 19,
     "metadata": {
     },
     "output_type": "execute_result"
    },
    {
     "name": "stdout",
     "output_type": "stream",
     "text": [
      "Vector codificado y\n"
     ]
    },
    {
     "data": {
      "text/html": [
       "<html><script type=\"math/tex; mode=display\">\\newcommand{\\Bold}[1]{\\mathbf{#1}}\\left(1,\\,0,\\,1,\\,1,\\,0,\\,0,\\,0,\\,1,\\,0,\\,1,\\,1,\\,0,\\,1,\\,1,\\,0,\\,1\\right)</script></html>"
      ],
      "text/plain": [
       "(1, 0, 1, 1, 0, 0, 0, 1, 0, 1, 1, 0, 1, 1, 0, 1)"
      ]
     },
     "execution_count": 19,
     "metadata": {
     },
     "output_type": "execute_result"
    }
   ],
   "source": [
    "Krnl = H_Goppa_K.right_kernel();\n",
    "G = Krnl.basis_matrix();\n",
    "print('G')\n",
    "show(G)\n",
    "u = vector(K_,[randint(0,1) for _ in range(G.nrows())])\n",
    "c = u*G\n",
    "print ('Vector u')\n",
    "show(u)\n",
    "print ('Vector c')\n",
    "show(c)\n",
    "e = vector(K_,N)\n",
    "e[8] = 1\n",
    "e[9] = 1\n",
    "print ('Vector de errores e')\n",
    "show(e)\n",
    "y = c + e\n",
    "print (\"Vector codificado y\")\n",
    "show(y)"
   ]
  },
  {
   "cell_type": "markdown",
   "metadata": {
    "collapsed": false
   },
   "source": [
    "Realizamos la validación de los errores cometidos en las posiciones 8 y 9 como vimos en la parte de arriba que fueron introducidos."
   ]
  },
  {
   "cell_type": "code",
   "execution_count": 20,
   "metadata": {
    "collapsed": false
   },
   "outputs": [
    {
     "name": "stdout",
     "output_type": "stream",
     "text": [
      "Error encontrado en la posición: 8\n",
      "Error encontrado en la posición: 9\n"
     ]
    }
   ],
   "source": [
    "sol = decodePatterson(y)"
   ]
  },
  {
   "cell_type": "code",
   "execution_count": 9,
   "metadata": {
    "collapsed": false
   },
   "outputs": [
    {
     "data": {
      "text/html": [
       "<html><script type=\"math/tex; mode=display\">\\newcommand{\\Bold}[1]{\\mathbf{#1}}\\left(0,\\,0,\\,0,\\,0,\\,0,\\,0,\\,0,\\,0,\\,0,\\,0,\\,0,\\,0,\\,0,\\,0,\\,0,\\,0\\right)</script></html>"
      ],
      "text/plain": [
       "(0, 0, 0, 0, 0, 0, 0, 0, 0, 0, 0, 0, 0, 0, 0, 0)"
      ]
     },
     "execution_count": 9,
     "metadata": {
     },
     "output_type": "execute_result"
    }
   ],
   "source": [
    "show(sol)"
   ]
  },
  {
   "cell_type": "markdown",
   "metadata": {
    "collapsed": false
   },
   "source": [
    "Como ya validamos que el código de corrección de errores de patterson corrige los errores introducidos, procedemos a construir la matriz del código disfrazado como mencionamos en el capitulo de la tesis."
   ]
  },
  {
   "cell_type": "code",
   "execution_count": 10,
   "metadata": {
    "collapsed": false
   },
   "outputs": [
    {
     "data": {
      "text/html": [
       "<html><script type=\"math/tex; mode=display\">\\newcommand{\\Bold}[1]{\\mathbf{#1}}\\left(\\begin{array}{rrrrrrrrrrrrrrrr}\n",
       "0 & 1 & 1 & 1 & 1 & 1 & 0 & 0 & 0 & 0 & 1 & 1 & 1 & 1 & 0 & 0 \\\\\n",
       "1 & 0 & 0 & 0 & 1 & 0 & 0 & 0 & 1 & 0 & 1 & 1 & 0 & 1 & 1 & 0 \\\\\n",
       "0 & 1 & 1 & 1 & 0 & 1 & 1 & 1 & 0 & 1 & 0 & 0 & 1 & 0 & 0 & 1 \\\\\n",
       "1 & 0 & 0 & 1 & 1 & 0 & 1 & 0 & 1 & 0 & 1 & 1 & 0 & 1 & 1 & 0\n",
       "\\end{array}\\right)</script></html>"
      ],
      "text/plain": [
       "[0 1 1 1 1 1 0 0 0 0 1 1 1 1 0 0]\n",
       "[1 0 0 0 1 0 0 0 1 0 1 1 0 1 1 0]\n",
       "[0 1 1 1 0 1 1 1 0 1 0 0 1 0 0 1]\n",
       "[1 0 0 1 1 0 1 0 1 0 1 1 0 1 1 0]"
      ]
     },
     "execution_count": 10,
     "metadata": {
     },
     "output_type": "execute_result"
    }
   ],
   "source": [
    "Krnl = H_Goppa_K.right_kernel();\n",
    "G = Krnl.basis_matrix(); #matriz generadora para el codigo de Goppa\n",
    "S = random_matrix(GF(2), N-m*rango) # matriz binaria no singular.\n",
    "\n",
    "while (S.determinant()==0):\n",
    "    S = random_matrix(GF(2), N-m*rango)\n",
    "\n",
    "rng = range(N)\n",
    "\n",
    "P = matrix(GF(2),N); #matriz de permutacion.\n",
    "\n",
    "for i in range(N):\n",
    "    p = floor(len(rng)*random());\n",
    "    P[i,rng[p]]=1;\n",
    "    rng=list(rng[:p])+list(rng[p+1:]);\n",
    "\n",
    "G_gorro = S*G*P\n",
    "show(G_gorro)"
   ]
  },
  {
   "cell_type": "markdown",
   "metadata": {
    "collapsed": false
   },
   "source": [
    "### Algoritmo de cifrado\n",
    "---\n",
    "\n",
    "Supongamos que Bob quiere enviarle un mensaje $m$ de tamaño $k$ a Alice utilizando la llave pública $(\\hat{G},t)$, entonces Bob debe realizar los siguientes pasos:\n",
    "\n",
    " 1. Generar un vector binario aleatorio $e$ de tamaño $n$ y a lo sumo que contenga $wt(e) \\leq t$.\n",
    " 2. Calcular el texto cifrado de la siguiente manera $c = m \\times \\hat{G} \\oplus e$."
   ]
  },
  {
   "cell_type": "code",
   "execution_count": 13,
   "metadata": {
    "collapsed": false
   },
   "outputs": [
    {
     "name": "stdout",
     "output_type": "stream",
     "text": [
      "Vector u\n"
     ]
    },
    {
     "data": {
      "text/html": [
       "<html><script type=\"math/tex; mode=display\">\\newcommand{\\Bold}[1]{\\mathbf{#1}}\\left(1,\\,1,\\,1,\\,1\\right)</script></html>"
      ],
      "text/plain": [
       "(1, 1, 1, 1)"
      ]
     },
     "execution_count": 13,
     "metadata": {
     },
     "output_type": "execute_result"
    },
    {
     "name": "stdout",
     "output_type": "stream",
     "text": [
      "Vector c\n"
     ]
    },
    {
     "data": {
      "text/html": [
       "<html><script type=\"math/tex; mode=display\">\\newcommand{\\Bold}[1]{\\mathbf{#1}}\\left(0,\\,0,\\,0,\\,1,\\,1,\\,0,\\,0,\\,1,\\,0,\\,1,\\,1,\\,1,\\,0,\\,1,\\,0,\\,1\\right)</script></html>"
      ],
      "text/plain": [
       "(0, 0, 0, 1, 1, 0, 0, 1, 0, 1, 1, 1, 0, 1, 0, 1)"
      ]
     },
     "execution_count": 13,
     "metadata": {
     },
     "output_type": "execute_result"
    },
    {
     "name": "stdout",
     "output_type": "stream",
     "text": [
      "Vector de errores e\n"
     ]
    },
    {
     "data": {
      "text/html": [
       "<html><script type=\"math/tex; mode=display\">\\newcommand{\\Bold}[1]{\\mathbf{#1}}\\left(0,\\,0,\\,0,\\,0,\\,0,\\,0,\\,0,\\,0,\\,1,\\,1,\\,0,\\,0,\\,0,\\,0,\\,0,\\,0\\right)</script></html>"
      ],
      "text/plain": [
       "(0, 0, 0, 0, 0, 0, 0, 0, 1, 1, 0, 0, 0, 0, 0, 0)"
      ]
     },
     "execution_count": 13,
     "metadata": {
     },
     "output_type": "execute_result"
    },
    {
     "name": "stdout",
     "output_type": "stream",
     "text": [
      "Vector codificado y\n"
     ]
    },
    {
     "data": {
      "text/html": [
       "<html><script type=\"math/tex; mode=display\">\\newcommand{\\Bold}[1]{\\mathbf{#1}}\\left(0,\\,0,\\,0,\\,1,\\,1,\\,0,\\,0,\\,1,\\,1,\\,0,\\,1,\\,1,\\,0,\\,1,\\,0,\\,1\\right)</script></html>"
      ],
      "text/plain": [
       "(0, 0, 0, 1, 1, 0, 0, 1, 1, 0, 1, 1, 0, 1, 0, 1)"
      ]
     },
     "execution_count": 13,
     "metadata": {
     },
     "output_type": "execute_result"
    }
   ],
   "source": [
    "u = vector(K_,[randint(0,1) for _ in range(G_gorro.nrows())])\n",
    "c = u*G_gorro\n",
    "print ('Vector u');\n",
    "show(u)\n",
    "print ('Vector c');\n",
    "show(c)\n",
    "e = vector(K_,N)\n",
    "e[8] = 1\n",
    "e[9] = 1\n",
    "print ('Vector de errores e') ; show(e)\n",
    "y = c + e\n",
    "print (\"Vector codificado y\") ; show(y)"
   ]
  },
  {
   "cell_type": "markdown",
   "metadata": {
    "collapsed": false
   },
   "source": [
    "### Algoritmo de descifrado\n",
    "---\n",
    "\n",
    "Alice recibe el mensaje de Bob y para recuperar el mensaje original, debe realizar los siguientes pasos:\n",
    "\n",
    " 1. Calcular $c' = c \\times P^{-1} = (m \\hat{G} P^{-1}) \\oplus eP^{-1} = mSGPP^{-1} \\oplus eP^{-1} = mSG \\oplus eP^{-1}$.\n",
    " 2. Usar el algoritmo de descifrado para el código de Goppa $\\Gamma (L,g)$ para encontrar $m' = m \\times S$, ya que $wt(eP^{-1}) \\leq t$.\n",
    " 3. Calcular $m = m' \\times S^{-1}$."
   ]
  },
  {
   "cell_type": "code",
   "execution_count": 14,
   "metadata": {
    "collapsed": false
   },
   "outputs": [
    {
     "name": "stdout",
     "output_type": "stream",
     "text": [
      "Error encontrado en la posición: 2\n",
      "Error encontrado en la posición: 5\n"
     ]
    },
    {
     "data": {
      "text/html": [
       "<html><script type=\"math/tex; mode=display\">\\newcommand{\\Bold}[1]{\\mathbf{#1}}\\left(1,\\,1,\\,1,\\,1\\right)</script></html>"
      ],
      "text/plain": [
       "(1, 1, 1, 1)"
      ]
     },
     "execution_count": 14,
     "metadata": {
     },
     "output_type": "execute_result"
    }
   ],
   "source": [
    "yP = y*(P.inverse())\n",
    "yd = decodePatterson(yP)\n",
    "corregido = (G.transpose()\\yd)*S.inverse()\n",
    "show(corregido)"
   ]
  }
 ],
 "metadata": {
  "kernelspec": {
   "display_name": "SageMath 9.1",
   "language": "sagemath",
   "metadata": {
    "cocalc": {
     "description": "Open-source mathematical software system",
     "priority": 1,
     "url": "https://www.sagemath.org/"
    }
   },
   "name": "sage-9.1",
   "resource_dir": "/ext/jupyter/kernels/sage-9.1"
  },
  "language_info": {
   "codemirror_mode": {
    "name": "ipython",
    "version": 3
   },
   "file_extension": ".py",
   "mimetype": "text/x-python",
   "name": "python",
   "nbconvert_exporter": "python",
   "pygments_lexer": "ipython3",
   "version": "3.7.3"
  }
 },
 "nbformat": 4,
 "nbformat_minor": 4
}